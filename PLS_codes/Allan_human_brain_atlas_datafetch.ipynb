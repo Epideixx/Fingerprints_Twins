{
 "cells": [
  {
   "cell_type": "markdown",
   "id": "295efccf",
   "metadata": {},
   "source": [
    "# Gather data from AHBA using abagen parcelate to Shaefer atlas"
   ]
  },
  {
   "cell_type": "code",
   "execution_count": 1,
   "id": "08662f00",
   "metadata": {},
   "outputs": [],
   "source": [
    "import abagen\n",
    "import numpy as np\n",
    "import nilearn\n",
    "import pandas as pd\n",
    "\n",
    "from nilearn.datasets import fetch_atlas_schaefer_2018\n",
    "\n",
    "scahefer= fetch_atlas_schaefer_2018(n_rois=200)\n",
    "\n",
    "info= {}\n",
    "\n",
    "x = np.array([\"L\", \"R\"])\n",
    "info['hemisphere'] = np.repeat(x, [100, 100], axis=0)\n",
    "\n",
    "info['structure'] = [\"cortex\" for i in range(200)]\n",
    "\n",
    "info['id'] = np.arange(1,201)\n",
    "\n",
    "df = pd.DataFrame(info)\n",
    "\n",
    "\n",
    "data_dir='/Users/jason/abagen-data/'\n",
    "# data downloaded to /Users/jason/abagen-data/"
   ]
  },
  {
   "cell_type": "code",
   "execution_count": 3,
   "id": "cbaace4c",
   "metadata": {},
   "outputs": [
    {
     "name": "stderr",
     "output_type": "stream",
     "text": [
      "/Users/jason/opt/anaconda3/lib/python3.9/site-packages/abagen/allen.py:505: FutureWarning: The frame.append method is deprecated and will be removed from pandas in a future version. Use pandas.concat instead.\n",
      "  microarray[subj] = microarray[subj].append(exp)\n",
      "/Users/jason/opt/anaconda3/lib/python3.9/site-packages/abagen/allen.py:506: FutureWarning: The frame.append method is deprecated and will be removed from pandas in a future version. Use pandas.concat instead.\n",
      "  labels = labels.append(lab)\n",
      "/Users/jason/opt/anaconda3/lib/python3.9/site-packages/abagen/allen.py:505: FutureWarning: The frame.append method is deprecated and will be removed from pandas in a future version. Use pandas.concat instead.\n",
      "  microarray[subj] = microarray[subj].append(exp)\n",
      "/Users/jason/opt/anaconda3/lib/python3.9/site-packages/abagen/allen.py:506: FutureWarning: The frame.append method is deprecated and will be removed from pandas in a future version. Use pandas.concat instead.\n",
      "  labels = labels.append(lab)\n",
      "/Users/jason/opt/anaconda3/lib/python3.9/site-packages/abagen/allen.py:505: FutureWarning: The frame.append method is deprecated and will be removed from pandas in a future version. Use pandas.concat instead.\n",
      "  microarray[subj] = microarray[subj].append(exp)\n",
      "/Users/jason/opt/anaconda3/lib/python3.9/site-packages/abagen/allen.py:506: FutureWarning: The frame.append method is deprecated and will be removed from pandas in a future version. Use pandas.concat instead.\n",
      "  labels = labels.append(lab)\n",
      "/Users/jason/opt/anaconda3/lib/python3.9/site-packages/abagen/allen.py:505: FutureWarning: The frame.append method is deprecated and will be removed from pandas in a future version. Use pandas.concat instead.\n",
      "  microarray[subj] = microarray[subj].append(exp)\n",
      "/Users/jason/opt/anaconda3/lib/python3.9/site-packages/abagen/allen.py:506: FutureWarning: The frame.append method is deprecated and will be removed from pandas in a future version. Use pandas.concat instead.\n",
      "  labels = labels.append(lab)\n",
      "/Users/jason/opt/anaconda3/lib/python3.9/site-packages/abagen/allen.py:505: FutureWarning: The frame.append method is deprecated and will be removed from pandas in a future version. Use pandas.concat instead.\n",
      "  microarray[subj] = microarray[subj].append(exp)\n",
      "/Users/jason/opt/anaconda3/lib/python3.9/site-packages/abagen/allen.py:506: FutureWarning: The frame.append method is deprecated and will be removed from pandas in a future version. Use pandas.concat instead.\n",
      "  labels = labels.append(lab)\n",
      "/Users/jason/opt/anaconda3/lib/python3.9/site-packages/abagen/allen.py:505: FutureWarning: The frame.append method is deprecated and will be removed from pandas in a future version. Use pandas.concat instead.\n",
      "  microarray[subj] = microarray[subj].append(exp)\n",
      "/Users/jason/opt/anaconda3/lib/python3.9/site-packages/abagen/allen.py:506: FutureWarning: The frame.append method is deprecated and will be removed from pandas in a future version. Use pandas.concat instead.\n",
      "  labels = labels.append(lab)\n",
      "/Users/jason/opt/anaconda3/lib/python3.9/site-packages/abagen/samples_.py:404: FutureWarning: The frame.append method is deprecated and will be removed from pandas in a future version. Use pandas.concat instead.\n",
      "  gene_by_label = (microarray.groupby('label')\n",
      "/Users/jason/opt/anaconda3/lib/python3.9/site-packages/abagen/samples_.py:404: FutureWarning: The frame.append method is deprecated and will be removed from pandas in a future version. Use pandas.concat instead.\n",
      "  gene_by_label = (microarray.groupby('label')\n",
      "/Users/jason/opt/anaconda3/lib/python3.9/site-packages/abagen/samples_.py:404: FutureWarning: The frame.append method is deprecated and will be removed from pandas in a future version. Use pandas.concat instead.\n",
      "  gene_by_label = (microarray.groupby('label')\n",
      "/Users/jason/opt/anaconda3/lib/python3.9/site-packages/abagen/samples_.py:404: FutureWarning: The frame.append method is deprecated and will be removed from pandas in a future version. Use pandas.concat instead.\n",
      "  gene_by_label = (microarray.groupby('label')\n",
      "/Users/jason/opt/anaconda3/lib/python3.9/site-packages/abagen/samples_.py:404: FutureWarning: The frame.append method is deprecated and will be removed from pandas in a future version. Use pandas.concat instead.\n",
      "  gene_by_label = (microarray.groupby('label')\n",
      "/Users/jason/opt/anaconda3/lib/python3.9/site-packages/abagen/samples_.py:404: FutureWarning: The frame.append method is deprecated and will be removed from pandas in a future version. Use pandas.concat instead.\n",
      "  gene_by_label = (microarray.groupby('label')\n"
     ]
    }
   ],
   "source": [
    "# get parcellation to use\n",
    "parcel= '/Users/jason/Documents/HCP_twin_projec/Parcellations/MNI/Schaefer2018_200Parcels_7Networks_order_FSLMNI152_2mm.nii.gz'\n",
    "\n",
    "# apply parcelation and interpolate missing data\n",
    "expression, report = abagen.get_expression_data(parcel, atlas_info=df, lr_mirror= 'bidirectional', \n",
    "                                        missing= 'interpolate', return_donors= True, return_report= True) \n",
    "# keep stable genes\n",
    "expression, ds = abagen.correct.keep_stable_genes(list(expression.values()), \n",
    "                                                  threshold=0.1, percentile= False, return_stability= True)\n",
    "# save outputs\n",
    "np.savetxt('/Users/jason/Documents/HCP_twin_projec/2024differ_stab.csv', ds, delimiter=',')\n",
    "expression = pd.concat(expression).groupby('label').mean()\n",
    "expression.to_csv('/Users/jason/Documents/HCP_twin_projec/2024expression_genes.csv')\n",
    "np.savetxt('/Users/jason/Documents/HCP_twin_projec/abagen_analysis/2024ROI_names.csv',scahefer['labels'], fmt='%s')"
   ]
  },
  {
   "cell_type": "code",
   "execution_count": null,
   "id": "13f90a03",
   "metadata": {},
   "outputs": [],
   "source": [
    "print(report)"
   ]
  },
  {
   "cell_type": "markdown",
   "id": "36b2b1b3",
   "metadata": {},
   "source": [
    "# Repeat for Desikan-Killiany and Destrieux"
   ]
  },
  {
   "cell_type": "code",
   "execution_count": null,
   "id": "4cacc9d4",
   "metadata": {},
   "outputs": [],
   "source": [
    "\n",
    "\n",
    "atlas = abagen.fetch_desikan_killiany(surface=True)\n",
    "atlas_info = pd.read_csv(atlas['info'])\n",
    "data_dir='/Users/jason/abagen-data/'\n",
    "parcel= '/Users/jason/Documents/HCP_twin_projec/Parcellations/MNI/Schaefer2018_200Parcels_7Networks_order_FSLMNI152_2mm.nii.gz'\n",
    "\n",
    "expression, report = abagen.get_expression_data(atlas['image'], atlas_info=atlas_info, lr_mirror= 'bidirectional', \n",
    "                                        missing= 'interpolate', return_donors= True, return_report= True)\n",
    "                                                      \n",
    "expression, ds = abagen.correct.keep_stable_genes(list(expression.values()), \n",
    "            threshold=0.1, percentile= False, return_stability= True)\n",
    "np.savetxt('/Users/jason/Documents/HCP_twin_projec/DKA_differ_stab.csv', ds, delimiter=',')\n",
    "expression = pd.concat(expression).groupby('label').mean()                                                   \n",
    "np.savetxt('/Users/jason/Documents/HCP_twin_projec/abagen_analysis/DKA_ROI_names.csv',atlas_info['label'], fmt='%s')\n",
    "expression.to_csv('/Users/jason/Documents/HCP_twin_projec/DKA_expression_genes.csv')"
   ]
  },
  {
   "cell_type": "code",
   "execution_count": null,
   "id": "49ad55e3",
   "metadata": {},
   "outputs": [],
   "source": [
    "print(report)"
   ]
  },
  {
   "cell_type": "code",
   "execution_count": null,
   "id": "18129bc0",
   "metadata": {},
   "outputs": [],
   "source": [
    "np.savetxt('/Users/jason/Documents/HCP_twin_projec/abagen_analysis/DKA_ROI_names.csv',atlas_info['label'], fmt='%s')"
   ]
  },
  {
   "cell_type": "code",
   "execution_count": null,
   "id": "4490082c",
   "metadata": {},
   "outputs": [],
   "source": [
    "info= {}\n",
    "x = np.array([\"L\", \"R\"])\n",
    "info['hemisphere'] = np.array(['NaN', np.repeat(x, [75, 75], axis=0)])\n",
    "print(info)"
   ]
  },
  {
   "cell_type": "code",
   "execution_count": null,
   "id": "637257ad",
   "metadata": {},
   "outputs": [],
   "source": [
    "atlas = abagen.fetch_desikan_killiany()\n",
    "print(atlas)\n"
   ]
  },
  {
   "cell_type": "code",
   "execution_count": null,
   "id": "c3944874",
   "metadata": {},
   "outputs": [],
   "source": [
    "atlas = fetch_atlas_destrieux_2009()\n",
    "print(atlas['maps'])"
   ]
  },
  {
   "cell_type": "code",
   "execution_count": null,
   "id": "ecef9967",
   "metadata": {},
   "outputs": [],
   "source": [
    "print(atlas_info)"
   ]
  },
  {
   "cell_type": "code",
   "execution_count": null,
   "id": "d3ba22f9",
   "metadata": {},
   "outputs": [],
   "source": [
    "print(df)"
   ]
  },
  {
   "cell_type": "code",
   "execution_count": null,
   "id": "c7d334dd",
   "metadata": {},
   "outputs": [],
   "source": [
    "import abagen\n",
    "import numpy as np\n",
    "import nilearn\n",
    "import pandas as pd\n",
    "\n",
    "from nilearn.datasets import fetch_atlas_destrieux_2009\n",
    "\n",
    "atlas = fetch_atlas_destrieux_2009()\n",
    "\n",
    "atlas_info = pd.read_csv('/Users/jason/Documents/HCP_twin_projec/destriuex_atlas_labels2.csv', sep=',', usecols= ['id','hemisphere', 'structure'])\n",
    "data_dir='/Users/jason/abagen-data/'\n",
    "\n",
    "expression, report = abagen.get_expression_data(atlas['maps'], atlas_info=atlas_info, lr_mirror= 'bidirectional', \n",
    "                                        missing= 'interpolate', return_donors= True, return_report= True)\n",
    "\n",
    "\n",
    "#expression2 = pd.concat(expression).groupby('label').mean()  \n",
    "#expression2.to_csv('/Users/jason/Documents/HCP_twin_projec/All_genes_Destrieux_expression_genes.csv')\n",
    "                                                      \n",
    "expression, ds = abagen.correct.keep_stable_genes(list(expression.values()), \n",
    "            threshold=0.1, percentile= False, return_stability= True)\n",
    "np.savetxt('/Users/jason/Documents/HCP_twin_projec/Destrieux_differ_stab.csv', ds, delimiter=',')\n",
    "                                                 \n",
    "np.savetxt('/Users/jason/Documents/HCP_twin_projec/abagen_analysis/Destrieux_ROI_names.csv',atlas_info['label'], fmt='%s')\n",
    "expression.to_csv('/Users/jason/Documents/HCP_twin_projec/Destrieux_expression_genes.csv')"
   ]
  },
  {
   "cell_type": "code",
   "execution_count": null,
   "id": "12b1a6c9",
   "metadata": {},
   "outputs": [],
   "source": [
    "expression.to_csv('/Users/jason/Documents/HCP_twin_projec/Destrieux_expression_genes.csv')"
   ]
  },
  {
   "cell_type": "code",
   "execution_count": null,
   "id": "c5994b95",
   "metadata": {},
   "outputs": [],
   "source": [
    "np.savetxt('/Users/jason/Documents/HCP_twin_projec/Destrieux_differ_stab.csv', ds, delimiter=',')\n",
    "                                                 \n",
    "np.savetxt('/Users/jason/Documents/HCP_twin_projec/abagen_analysis/Destrieux_ROI_names.csv',atlas_info, fmt='%s')"
   ]
  }
 ],
 "metadata": {
  "kernelspec": {
   "display_name": "Python 3 (ipykernel)",
   "language": "python",
   "name": "python3"
  },
  "language_info": {
   "codemirror_mode": {
    "name": "ipython",
    "version": 3
   },
   "file_extension": ".py",
   "mimetype": "text/x-python",
   "name": "python",
   "nbconvert_exporter": "python",
   "pygments_lexer": "ipython3",
   "version": "3.9.12"
  }
 },
 "nbformat": 4,
 "nbformat_minor": 5
}
