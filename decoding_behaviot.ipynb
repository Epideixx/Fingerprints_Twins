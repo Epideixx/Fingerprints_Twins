{
 "cells": [
  {
   "cell_type": "code",
   "execution_count": 884,
   "metadata": {},
   "outputs": [],
   "source": [
    "import pandas as pd\n",
    "import numpy as np\n",
    "from sklearn.metrics import accuracy_score, mean_squared_error\n",
    "from sklearn.model_selection import train_test_split\n",
    "from sklearn.linear_model import Ridge, Lasso, ElasticNet, RidgeCV\n",
    "from sklearn.decomposition import PCA\n",
    "from sklearn.preprocessing import StandardScaler, MinMaxScaler\n",
    "from sklearn.svm import SVR\n",
    "from sklearn.gaussian_process import GaussianProcessRegressor\n",
    "from sklearn.gaussian_process.kernels import DotProduct, WhiteKernel\n",
    "from sklearn.ensemble import RandomForestRegressor\n",
    "import re\n",
    "from matplotlib import pyplot as plt\n",
    "from scipy.stats import pearsonr\n",
    "from tqdm import tqdm\n"
   ]
  },
  {
   "cell_type": "code",
   "execution_count": 885,
   "metadata": {},
   "outputs": [],
   "source": [
    "# Import the data\n",
    "\n",
    "demographics = pd.read_csv('new_Data/demographics_4_Guilia.csv')\n",
    "\n",
    "ROIs = pd.read_csv(\"new_Data/dka_HCP_test.csv\")\n",
    "ROIs = ROIs[\"name\"]\n",
    "columns = [ROI + \"_\" + str(j/2) for ROI in ROIs for j in range(0, 300)]\n",
    "\n",
    "psds = pd.read_csv('new_Data/PSD_Rest.csv', header=None)\n",
    "psds.columns = columns"
   ]
  },
  {
   "cell_type": "code",
   "execution_count": 886,
   "metadata": {},
   "outputs": [
    {
     "data": {
      "text/html": [
       "<div>\n",
       "<style scoped>\n",
       "    .dataframe tbody tr th:only-of-type {\n",
       "        vertical-align: middle;\n",
       "    }\n",
       "\n",
       "    .dataframe tbody tr th {\n",
       "        vertical-align: top;\n",
       "    }\n",
       "\n",
       "    .dataframe thead th {\n",
       "        text-align: right;\n",
       "    }\n",
       "</style>\n",
       "<table border=\"1\" class=\"dataframe\">\n",
       "  <thead>\n",
       "    <tr style=\"text-align: right;\">\n",
       "      <th></th>\n",
       "      <th>bankssts L_0.0</th>\n",
       "      <th>bankssts L_0.5</th>\n",
       "      <th>bankssts L_1.0</th>\n",
       "      <th>bankssts L_1.5</th>\n",
       "      <th>bankssts L_2.0</th>\n",
       "      <th>bankssts L_2.5</th>\n",
       "      <th>bankssts L_3.0</th>\n",
       "      <th>bankssts L_3.5</th>\n",
       "      <th>bankssts L_4.0</th>\n",
       "      <th>bankssts L_4.5</th>\n",
       "      <th>...</th>\n",
       "      <th>transversetemporal R_145.0</th>\n",
       "      <th>transversetemporal R_145.5</th>\n",
       "      <th>transversetemporal R_146.0</th>\n",
       "      <th>transversetemporal R_146.5</th>\n",
       "      <th>transversetemporal R_147.0</th>\n",
       "      <th>transversetemporal R_147.5</th>\n",
       "      <th>transversetemporal R_148.0</th>\n",
       "      <th>transversetemporal R_148.5</th>\n",
       "      <th>transversetemporal R_149.0</th>\n",
       "      <th>transversetemporal R_149.5</th>\n",
       "    </tr>\n",
       "  </thead>\n",
       "  <tbody>\n",
       "    <tr>\n",
       "      <th>0</th>\n",
       "      <td>1.166112</td>\n",
       "      <td>7.310916</td>\n",
       "      <td>5.172159</td>\n",
       "      <td>2.908277</td>\n",
       "      <td>1.780837</td>\n",
       "      <td>1.194868</td>\n",
       "      <td>1.090405</td>\n",
       "      <td>1.041240</td>\n",
       "      <td>0.966275</td>\n",
       "      <td>0.866052</td>\n",
       "      <td>...</td>\n",
       "      <td>0.013225</td>\n",
       "      <td>0.014056</td>\n",
       "      <td>0.012924</td>\n",
       "      <td>0.011307</td>\n",
       "      <td>0.011478</td>\n",
       "      <td>0.011786</td>\n",
       "      <td>0.010631</td>\n",
       "      <td>0.009448</td>\n",
       "      <td>0.006987</td>\n",
       "      <td>0.003150</td>\n",
       "    </tr>\n",
       "    <tr>\n",
       "      <th>1</th>\n",
       "      <td>1.726824</td>\n",
       "      <td>11.262225</td>\n",
       "      <td>8.457395</td>\n",
       "      <td>5.106392</td>\n",
       "      <td>3.424434</td>\n",
       "      <td>2.753602</td>\n",
       "      <td>2.462952</td>\n",
       "      <td>2.272813</td>\n",
       "      <td>2.133286</td>\n",
       "      <td>1.975146</td>\n",
       "      <td>...</td>\n",
       "      <td>0.019069</td>\n",
       "      <td>0.017784</td>\n",
       "      <td>0.018208</td>\n",
       "      <td>0.019443</td>\n",
       "      <td>0.018315</td>\n",
       "      <td>0.017127</td>\n",
       "      <td>0.016271</td>\n",
       "      <td>0.015401</td>\n",
       "      <td>0.010584</td>\n",
       "      <td>0.007986</td>\n",
       "    </tr>\n",
       "    <tr>\n",
       "      <th>2</th>\n",
       "      <td>1.283245</td>\n",
       "      <td>8.512901</td>\n",
       "      <td>5.622469</td>\n",
       "      <td>3.662541</td>\n",
       "      <td>2.693076</td>\n",
       "      <td>2.195658</td>\n",
       "      <td>1.881473</td>\n",
       "      <td>1.665905</td>\n",
       "      <td>1.550854</td>\n",
       "      <td>1.544194</td>\n",
       "      <td>...</td>\n",
       "      <td>0.011910</td>\n",
       "      <td>0.012364</td>\n",
       "      <td>0.012478</td>\n",
       "      <td>0.012050</td>\n",
       "      <td>0.011816</td>\n",
       "      <td>0.012486</td>\n",
       "      <td>0.011117</td>\n",
       "      <td>0.009719</td>\n",
       "      <td>0.007808</td>\n",
       "      <td>0.003464</td>\n",
       "    </tr>\n",
       "    <tr>\n",
       "      <th>3</th>\n",
       "      <td>0.779096</td>\n",
       "      <td>5.631812</td>\n",
       "      <td>4.190357</td>\n",
       "      <td>2.781331</td>\n",
       "      <td>2.186175</td>\n",
       "      <td>2.060094</td>\n",
       "      <td>1.706472</td>\n",
       "      <td>1.454541</td>\n",
       "      <td>1.415902</td>\n",
       "      <td>1.377155</td>\n",
       "      <td>...</td>\n",
       "      <td>0.007378</td>\n",
       "      <td>0.007126</td>\n",
       "      <td>0.007329</td>\n",
       "      <td>0.007236</td>\n",
       "      <td>0.006535</td>\n",
       "      <td>0.006806</td>\n",
       "      <td>0.006740</td>\n",
       "      <td>0.006133</td>\n",
       "      <td>0.004261</td>\n",
       "      <td>0.002017</td>\n",
       "    </tr>\n",
       "    <tr>\n",
       "      <th>4</th>\n",
       "      <td>0.843786</td>\n",
       "      <td>5.370334</td>\n",
       "      <td>4.005501</td>\n",
       "      <td>2.143103</td>\n",
       "      <td>1.772349</td>\n",
       "      <td>1.449305</td>\n",
       "      <td>1.291349</td>\n",
       "      <td>1.441181</td>\n",
       "      <td>1.354650</td>\n",
       "      <td>1.279961</td>\n",
       "      <td>...</td>\n",
       "      <td>0.005973</td>\n",
       "      <td>0.006015</td>\n",
       "      <td>0.006312</td>\n",
       "      <td>0.005653</td>\n",
       "      <td>0.005771</td>\n",
       "      <td>0.005979</td>\n",
       "      <td>0.005880</td>\n",
       "      <td>0.005315</td>\n",
       "      <td>0.003970</td>\n",
       "      <td>0.001791</td>\n",
       "    </tr>\n",
       "  </tbody>\n",
       "</table>\n",
       "<p>5 rows × 20400 columns</p>\n",
       "</div>"
      ],
      "text/plain": [
       "   bankssts L_0.0  bankssts L_0.5  bankssts L_1.0  bankssts L_1.5  \\\n",
       "0        1.166112        7.310916        5.172159        2.908277   \n",
       "1        1.726824       11.262225        8.457395        5.106392   \n",
       "2        1.283245        8.512901        5.622469        3.662541   \n",
       "3        0.779096        5.631812        4.190357        2.781331   \n",
       "4        0.843786        5.370334        4.005501        2.143103   \n",
       "\n",
       "   bankssts L_2.0  bankssts L_2.5  bankssts L_3.0  bankssts L_3.5  \\\n",
       "0        1.780837        1.194868        1.090405        1.041240   \n",
       "1        3.424434        2.753602        2.462952        2.272813   \n",
       "2        2.693076        2.195658        1.881473        1.665905   \n",
       "3        2.186175        2.060094        1.706472        1.454541   \n",
       "4        1.772349        1.449305        1.291349        1.441181   \n",
       "\n",
       "   bankssts L_4.0  bankssts L_4.5  ...  transversetemporal R_145.0  \\\n",
       "0        0.966275        0.866052  ...                    0.013225   \n",
       "1        2.133286        1.975146  ...                    0.019069   \n",
       "2        1.550854        1.544194  ...                    0.011910   \n",
       "3        1.415902        1.377155  ...                    0.007378   \n",
       "4        1.354650        1.279961  ...                    0.005973   \n",
       "\n",
       "   transversetemporal R_145.5  transversetemporal R_146.0  \\\n",
       "0                    0.014056                    0.012924   \n",
       "1                    0.017784                    0.018208   \n",
       "2                    0.012364                    0.012478   \n",
       "3                    0.007126                    0.007329   \n",
       "4                    0.006015                    0.006312   \n",
       "\n",
       "   transversetemporal R_146.5  transversetemporal R_147.0  \\\n",
       "0                    0.011307                    0.011478   \n",
       "1                    0.019443                    0.018315   \n",
       "2                    0.012050                    0.011816   \n",
       "3                    0.007236                    0.006535   \n",
       "4                    0.005653                    0.005771   \n",
       "\n",
       "   transversetemporal R_147.5  transversetemporal R_148.0  \\\n",
       "0                    0.011786                    0.010631   \n",
       "1                    0.017127                    0.016271   \n",
       "2                    0.012486                    0.011117   \n",
       "3                    0.006806                    0.006740   \n",
       "4                    0.005979                    0.005880   \n",
       "\n",
       "   transversetemporal R_148.5  transversetemporal R_149.0  \\\n",
       "0                    0.009448                    0.006987   \n",
       "1                    0.015401                    0.010584   \n",
       "2                    0.009719                    0.007808   \n",
       "3                    0.006133                    0.004261   \n",
       "4                    0.005315                    0.003970   \n",
       "\n",
       "   transversetemporal R_149.5  \n",
       "0                    0.003150  \n",
       "1                    0.007986  \n",
       "2                    0.003464  \n",
       "3                    0.002017  \n",
       "4                    0.001791  \n",
       "\n",
       "[5 rows x 20400 columns]"
      ]
     },
     "execution_count": 886,
     "metadata": {},
     "output_type": "execute_result"
    }
   ],
   "source": [
    "psds.head()"
   ]
  },
  {
   "cell_type": "code",
   "execution_count": 887,
   "metadata": {},
   "outputs": [
    {
     "data": {
      "text/html": [
       "<div>\n",
       "<style scoped>\n",
       "    .dataframe tbody tr th:only-of-type {\n",
       "        vertical-align: middle;\n",
       "    }\n",
       "\n",
       "    .dataframe tbody tr th {\n",
       "        vertical-align: top;\n",
       "    }\n",
       "\n",
       "    .dataframe thead th {\n",
       "        text-align: right;\n",
       "    }\n",
       "</style>\n",
       "<table border=\"1\" class=\"dataframe\">\n",
       "  <thead>\n",
       "    <tr style=\"text-align: right;\">\n",
       "      <th></th>\n",
       "      <th>Unnamed: 0</th>\n",
       "      <th>CCID</th>\n",
       "      <th>homeint_sex</th>\n",
       "      <th>homeint_duration</th>\n",
       "      <th>homeint_mmse_i</th>\n",
       "      <th>homeint_handedness</th>\n",
       "      <th>homeint_quitquestion</th>\n",
       "      <th>homeint_v1</th>\n",
       "      <th>homeint_v19</th>\n",
       "      <th>homeint_v20</th>\n",
       "      <th>...</th>\n",
       "      <th>additional_attention_orientation</th>\n",
       "      <th>additional_memory</th>\n",
       "      <th>additional_fluencies</th>\n",
       "      <th>additional_language</th>\n",
       "      <th>additional_visuospatial</th>\n",
       "      <th>additional_acer</th>\n",
       "      <th>Catell_score</th>\n",
       "      <th>age</th>\n",
       "      <th>Group</th>\n",
       "      <th>Sex</th>\n",
       "    </tr>\n",
       "  </thead>\n",
       "  <tbody>\n",
       "    <tr>\n",
       "      <th>0</th>\n",
       "      <td>2</td>\n",
       "      <td>sub_CC110033</td>\n",
       "      <td>M</td>\n",
       "      <td>63.0</td>\n",
       "      <td>30.0</td>\n",
       "      <td>90.0</td>\n",
       "      <td>NaN</td>\n",
       "      <td>1.0</td>\n",
       "      <td>1.0</td>\n",
       "      <td>NaN</td>\n",
       "      <td>...</td>\n",
       "      <td>18.0</td>\n",
       "      <td>24.0</td>\n",
       "      <td>13.0</td>\n",
       "      <td>26.0</td>\n",
       "      <td>16.0</td>\n",
       "      <td>97.0</td>\n",
       "      <td>NaN</td>\n",
       "      <td>24.17</td>\n",
       "      <td>young adult</td>\n",
       "      <td>MALE</td>\n",
       "    </tr>\n",
       "    <tr>\n",
       "      <th>1</th>\n",
       "      <td>3</td>\n",
       "      <td>sub_CC110037</td>\n",
       "      <td>M</td>\n",
       "      <td>559.0</td>\n",
       "      <td>30.0</td>\n",
       "      <td>89.0</td>\n",
       "      <td>NaN</td>\n",
       "      <td>1.0</td>\n",
       "      <td>1.0</td>\n",
       "      <td>NaN</td>\n",
       "      <td>...</td>\n",
       "      <td>18.0</td>\n",
       "      <td>26.0</td>\n",
       "      <td>14.0</td>\n",
       "      <td>26.0</td>\n",
       "      <td>16.0</td>\n",
       "      <td>100.0</td>\n",
       "      <td>30.0</td>\n",
       "      <td>18.75</td>\n",
       "      <td>young adult</td>\n",
       "      <td>MALE</td>\n",
       "    </tr>\n",
       "    <tr>\n",
       "      <th>2</th>\n",
       "      <td>5</td>\n",
       "      <td>sub_CC110045</td>\n",
       "      <td>F</td>\n",
       "      <td>132.0</td>\n",
       "      <td>30.0</td>\n",
       "      <td>100.0</td>\n",
       "      <td>NaN</td>\n",
       "      <td>2.0</td>\n",
       "      <td>1.0</td>\n",
       "      <td>NaN</td>\n",
       "      <td>...</td>\n",
       "      <td>18.0</td>\n",
       "      <td>26.0</td>\n",
       "      <td>14.0</td>\n",
       "      <td>26.0</td>\n",
       "      <td>16.0</td>\n",
       "      <td>100.0</td>\n",
       "      <td>41.0</td>\n",
       "      <td>24.50</td>\n",
       "      <td>young adult</td>\n",
       "      <td>FEMALE</td>\n",
       "    </tr>\n",
       "    <tr>\n",
       "      <th>3</th>\n",
       "      <td>6</td>\n",
       "      <td>sub_CC110056</td>\n",
       "      <td>F</td>\n",
       "      <td>80.0</td>\n",
       "      <td>29.0</td>\n",
       "      <td>100.0</td>\n",
       "      <td>NaN</td>\n",
       "      <td>2.0</td>\n",
       "      <td>1.0</td>\n",
       "      <td>NaN</td>\n",
       "      <td>...</td>\n",
       "      <td>17.0</td>\n",
       "      <td>26.0</td>\n",
       "      <td>12.0</td>\n",
       "      <td>26.0</td>\n",
       "      <td>14.0</td>\n",
       "      <td>95.0</td>\n",
       "      <td>24.0</td>\n",
       "      <td>22.67</td>\n",
       "      <td>young adult</td>\n",
       "      <td>FEMALE</td>\n",
       "    </tr>\n",
       "    <tr>\n",
       "      <th>4</th>\n",
       "      <td>10</td>\n",
       "      <td>sub_CC110069</td>\n",
       "      <td>F</td>\n",
       "      <td>-184.0</td>\n",
       "      <td>28.0</td>\n",
       "      <td>-58.0</td>\n",
       "      <td>NaN</td>\n",
       "      <td>2.0</td>\n",
       "      <td>1.0</td>\n",
       "      <td>NaN</td>\n",
       "      <td>...</td>\n",
       "      <td>16.0</td>\n",
       "      <td>26.0</td>\n",
       "      <td>14.0</td>\n",
       "      <td>23.0</td>\n",
       "      <td>15.0</td>\n",
       "      <td>94.0</td>\n",
       "      <td>41.0</td>\n",
       "      <td>28.67</td>\n",
       "      <td>young adult</td>\n",
       "      <td>FEMALE</td>\n",
       "    </tr>\n",
       "  </tbody>\n",
       "</table>\n",
       "<p>5 rows × 48 columns</p>\n",
       "</div>"
      ],
      "text/plain": [
       "   Unnamed: 0          CCID homeint_sex  homeint_duration  homeint_mmse_i  \\\n",
       "0           2  sub_CC110033           M              63.0            30.0   \n",
       "1           3  sub_CC110037           M             559.0            30.0   \n",
       "2           5  sub_CC110045           F             132.0            30.0   \n",
       "3           6  sub_CC110056           F              80.0            29.0   \n",
       "4          10  sub_CC110069           F            -184.0            28.0   \n",
       "\n",
       "   homeint_handedness  homeint_quitquestion  homeint_v1  homeint_v19  \\\n",
       "0                90.0                   NaN         1.0          1.0   \n",
       "1                89.0                   NaN         1.0          1.0   \n",
       "2               100.0                   NaN         2.0          1.0   \n",
       "3               100.0                   NaN         2.0          1.0   \n",
       "4               -58.0                   NaN         2.0          1.0   \n",
       "\n",
       "  homeint_v20  ...  additional_attention_orientation  additional_memory  \\\n",
       "0         NaN  ...                              18.0               24.0   \n",
       "1         NaN  ...                              18.0               26.0   \n",
       "2         NaN  ...                              18.0               26.0   \n",
       "3         NaN  ...                              17.0               26.0   \n",
       "4         NaN  ...                              16.0               26.0   \n",
       "\n",
       "   additional_fluencies  additional_language  additional_visuospatial  \\\n",
       "0                  13.0                 26.0                     16.0   \n",
       "1                  14.0                 26.0                     16.0   \n",
       "2                  14.0                 26.0                     16.0   \n",
       "3                  12.0                 26.0                     14.0   \n",
       "4                  14.0                 23.0                     15.0   \n",
       "\n",
       "   additional_acer  Catell_score    age        Group     Sex  \n",
       "0             97.0           NaN  24.17  young adult    MALE  \n",
       "1            100.0          30.0  18.75  young adult    MALE  \n",
       "2            100.0          41.0  24.50  young adult  FEMALE  \n",
       "3             95.0          24.0  22.67  young adult  FEMALE  \n",
       "4             94.0          41.0  28.67  young adult  FEMALE  \n",
       "\n",
       "[5 rows x 48 columns]"
      ]
     },
     "execution_count": 887,
     "metadata": {},
     "output_type": "execute_result"
    }
   ],
   "source": [
    "demographics.head()"
   ]
  },
  {
   "cell_type": "code",
   "execution_count": 888,
   "metadata": {},
   "outputs": [],
   "source": [
    "# Apply log to the PSDs\n",
    "\n",
    "psds = np.log(psds)"
   ]
  },
  {
   "cell_type": "code",
   "execution_count": 946,
   "metadata": {},
   "outputs": [
    {
     "name": "stderr",
     "output_type": "stream",
     "text": [
      "/var/folders/bx/pchp8hxx2k9gdgpwhgy8fpvc0000gn/T/ipykernel_82355/2729761496.py:2: SettingWithCopyWarning: \n",
      "A value is trying to be set on a copy of a slice from a DataFrame\n",
      "\n",
      "See the caveats in the documentation: https://pandas.pydata.org/pandas-docs/stable/user_guide/indexing.html#returning-a-view-versus-a-copy\n",
      "  df.dropna(axis = 0, inplace=True)\n"
     ]
    },
    {
     "data": {
      "text/plain": [
       "PearsonRResult(statistic=-0.6698398342941214, pvalue=9.462756898167437e-80)"
      ]
     },
     "execution_count": 946,
     "metadata": {},
     "output_type": "execute_result"
    }
   ],
   "source": [
    "df = demographics[[\"Catell_score\", \"age\"]]\n",
    "df.dropna(axis = 0, inplace=True)\n",
    "pearsonr(df[\"age\"], df[\"Catell_score\"])"
   ]
  },
  {
   "cell_type": "code",
   "execution_count": 947,
   "metadata": {},
   "outputs": [
    {
     "data": {
      "text/plain": [
       "<matplotlib.collections.PathCollection at 0x2c6959a30>"
      ]
     },
     "execution_count": 947,
     "metadata": {},
     "output_type": "execute_result"
    },
    {
     "data": {
      "image/png": "[encoded data removed]",
      "text/plain": [
       "<Figure size 640x480 with 1 Axes>"
      ]
     },
     "metadata": {},
     "output_type": "display_data"
    }
   ],
   "source": [
    "plt.scatter(df[\"age\"], df[\"Catell_score\"])"
   ]
  },
  {
   "attachments": {},
   "cell_type": "markdown",
   "metadata": {},
   "source": [
    "# 1. Predict global scores from every feature"
   ]
  },
  {
   "cell_type": "code",
   "execution_count": 889,
   "metadata": {},
   "outputs": [],
   "source": [
    "# Remove old people (ie age > 45)\n",
    "\n",
    "# mask = demographics[\"Group\"] == \"young adult\"\n",
    "# demographics = demographics[mask]\n",
    "# psds = psds[mask]"
   ]
  },
  {
   "cell_type": "code",
   "execution_count": 932,
   "metadata": {},
   "outputs": [],
   "source": [
    "# To predict\n",
    "col_to_predict = \"Catell_score\"\n",
    "y = demographics[col_to_predict]\n",
    "y = y.to_numpy()\n",
    "\n",
    "# Features\n",
    "X = psds.to_numpy()\n",
    "\n",
    "# Remove Nan Values\n",
    "index = np.where(np.isnan(y) == True)[0]\n",
    "X = np.delete(X, index, axis=0)\n",
    "y = np.delete(y, index, axis=0)\n",
    "\n",
    "# Remove the outliers, ex here one with a score of 0\n",
    "index = np.where(y == 0)[0]\n",
    "X = np.delete(X, index, axis=0)\n",
    "y = np.delete(y, index, axis=0)\n",
    "\n",
    "# Train-Test split\n",
    "X_train, X_test, y_train, y_test = train_test_split(X, y, test_size = 0.3)"
   ]
  },
  {
   "cell_type": "code",
   "execution_count": 933,
   "metadata": {},
   "outputs": [],
   "source": [
    "# Standardization of the input\n",
    "scaler = StandardScaler()\n",
    "\n",
    "X_train = scaler.fit_transform(X_train)\n",
    "X_test = scaler.fit_transform(X_test)"
   ]
  },
  {
   "cell_type": "code",
   "execution_count": 915,
   "metadata": {},
   "outputs": [],
   "source": [
    "# # Standardization of the output\n",
    "\n",
    "# scaler_output = StandardScaler()\n",
    "\n",
    "# y_train = scaler_output.fit_transform(y_train.reshape(-1, 1))\n",
    "# y_test = scaler_output.transform(y_test.reshape(-1, 1))"
   ]
  },
  {
   "cell_type": "code",
   "execution_count": 916,
   "metadata": {},
   "outputs": [],
   "source": [
    "# PCA\n",
    "pca = PCA(n_components=68)\n",
    "X_train = pca.fit_transform(X_train)\n",
    "X_test = pca.transform(X_test)"
   ]
  },
  {
   "cell_type": "code",
   "execution_count": 917,
   "metadata": {},
   "outputs": [
    {
     "data": {
      "text/plain": [
       "0.9134282261926239"
      ]
     },
     "execution_count": 917,
     "metadata": {},
     "output_type": "execute_result"
    }
   ],
   "source": [
    "np.sum(pca.explained_variance_ratio_)"
   ]
  },
  {
   "cell_type": "code",
   "execution_count": 934,
   "metadata": {},
   "outputs": [
    {
     "data": {
      "text/plain": [
       "(0.44978077060196764, 0.3300053814762065)"
      ]
     },
     "execution_count": 934,
     "metadata": {},
     "output_type": "execute_result"
    }
   ],
   "source": [
    "# Linear Rigde Regression\n",
    "lr = Lasso(alpha=0.5)\n",
    "lr.fit(X_train, y_train)\n",
    "\n",
    "lr.score(X_train, y_train), lr.score(X_test, y_test)"
   ]
  },
  {
   "cell_type": "code",
   "execution_count": 935,
   "metadata": {},
   "outputs": [
    {
     "name": "stdout",
     "output_type": "stream",
     "text": [
      "MSE training :  24.883652599847238\n",
      "MSE test :  31.058088195334218\n",
      "Correlation test :  PearsonRResult(statistic=0.5841924835211214, pvalue=5.991164715713126e-18)\n"
     ]
    },
    {
     "data": {
      "image/png": "[encoded data removed]",
      "text/plain": [
       "<Figure size 1500x900 with 2 Axes>"
      ]
     },
     "metadata": {},
     "output_type": "display_data"
    }
   ],
   "source": [
    "_, (ax0, ax1) = plt.subplots(figsize = (15, 9), ncols=2)\n",
    "\n",
    "y_train_pred = lr.predict(X_train)\n",
    "# y_train, y_train_pred = scaler_output.inverse_transform(y_train), scaler_output.inverse_transform(y_train_pred)\n",
    "print(\"MSE training : \", mean_squared_error(y_train, y_train_pred))\n",
    "\n",
    "ax0.scatter(x=y_train, y=y_train_pred)\n",
    "ax0.plot(y_train, y_train)\n",
    "ax0.set_title(\"Training Set\")\n",
    "ax0.set_xlabel(\"True value\")\n",
    "ax0.set_ylabel(\"Predicted value\")\n",
    "\n",
    "y_test_pred = lr.predict(X_test)\n",
    "# y_test, y_test_pred = scaler_output.inverse_transform(y_test), scaler_output.inverse_transform(y_test_pred)\n",
    "print(\"MSE test : \", mean_squared_error(y_test, y_test_pred))\n",
    "\n",
    "ax1.scatter(x=y_test, y=y_test_pred)\n",
    "ax1.plot(y_test, y_test)\n",
    "ax1.set_title(\"Test Set\")\n",
    "ax1.set_xlabel(\"True value\")\n",
    "ax1.set_ylabel(\"Predicted value\")\n",
    "\n",
    "print(\"Correlation test : \", pearsonr(y_test, y_test_pred))\n"
   ]
  },
  {
   "cell_type": "code",
   "execution_count": 828,
   "metadata": {},
   "outputs": [],
   "source": [
    "def train_and_predict(X, y, test_split = 0.2, nb_components_pca = 10, standard_input = True, standard_output = False, model = Ridge(), plot = True) :\n",
    "\n",
    "    X_train, X_test, y_train, y_test = train_test_split(X, y, test_size = test_split)\n",
    "\n",
    "    if standard_input :\n",
    "        # Standardization of the input\n",
    "        scaler = StandardScaler()\n",
    "\n",
    "        X_train = scaler.fit_transform(X_train)\n",
    "        X_test = scaler.fit_transform(X_test)\n",
    "\n",
    "    if standard_output :\n",
    "        # Standardization of the output\n",
    "\n",
    "        scaler_output = StandardScaler()\n",
    "\n",
    "        y_train = scaler_output.fit_transform(y_train.reshape(-1, 1))\n",
    "        y_test = scaler_output.transform(y_test.reshape(-1, 1))\n",
    "\n",
    "        y_train = y_train.reshape(-1,)\n",
    "        y_test = y_test.reshape(-1,)\n",
    "\n",
    "    if nb_components_pca :\n",
    "        # PCA\n",
    "        pca = PCA(n_components=50)\n",
    "        X_train = pca.fit_transform(X_train)\n",
    "        X_test = pca.transform(X_test)\n",
    "\n",
    "    # Linear Rigde Regression\n",
    "    lr = model\n",
    "    lr.fit(X_train, y_train)\n",
    "\n",
    "    y_train_pred = lr.predict(X_train)\n",
    "    y_test_pred = lr.predict(X_test)\n",
    "\n",
    "    # Plot results\n",
    "    if plot :\n",
    "        _, (ax0, ax1) = plt.subplots(figsize = (15, 9), ncols=2)\n",
    "\n",
    "        print(\"MSE training : \", mean_squared_error(y_train, y_train_pred))\n",
    "\n",
    "        ax0.scatter(x=y_train, y=y_train_pred)\n",
    "        ax0.plot(y_train, y_train)\n",
    "        ax0.set_title(\"Training Set\")\n",
    "        ax0.set_xlabel(\"True value\")\n",
    "        ax0.set_ylabel(\"Predicted value\")\n",
    "\n",
    "        y_test_pred = lr.predict(X_test)\n",
    "        print(\"MSE test : \", mean_squared_error(y_test, y_test_pred))\n",
    "\n",
    "        ax1.scatter(x=y_test, y=y_test_pred)\n",
    "        ax1.plot(y_test, y_test)\n",
    "        ax1.set_title(\"Test Set\")\n",
    "        ax1.set_xlabel(\"True value\")\n",
    "        ax1.set_ylabel(\"Predicted value\")\n",
    "\n",
    "        plt.show()\n",
    "    \n",
    "    return pearsonr(y_test, y_test_pred)[0]"
   ]
  },
  {
   "cell_type": "code",
   "execution_count": 936,
   "metadata": {},
   "outputs": [
    {
     "name": "stderr",
     "output_type": "stream",
     "text": [
      "100%|██████████| 100/100 [01:53<00:00,  1.13s/it]\n"
     ]
    }
   ],
   "source": [
    "# Good result for now on:\n",
    "\n",
    "test_split = 0.2\n",
    "nb_components_pca = None\n",
    "standard_input = True\n",
    "standard_output = False\n",
    "model = Lasso(alpha=0.5)\n",
    "plot = False\n",
    "\n",
    "corr = []\n",
    "\n",
    "for _ in tqdm(range(100), total = 100):\n",
    "    correlation = train_and_predict(X, y, test_split, nb_components_pca, standard_input, standard_output, model, plot)\n",
    "    corr.append(correlation)"
   ]
  },
  {
   "cell_type": "code",
   "execution_count": 937,
   "metadata": {},
   "outputs": [
    {
     "data": {
      "text/plain": [
       "(0.5575322255310067, 0.04912086607473273)"
      ]
     },
     "execution_count": 937,
     "metadata": {},
     "output_type": "execute_result"
    }
   ],
   "source": [
    "np.mean(corr), np.std(corr)"
   ]
  },
  {
   "cell_type": "code",
   "execution_count": 938,
   "metadata": {},
   "outputs": [
    {
     "name": "stdout",
     "output_type": "stream",
     "text": [
      "0.5575322255310067 0.04912086607473273\n"
     ]
    },
    {
     "data": {
      "image/png": "[encoded data removed]",
      "text/plain": [
       "<Figure size 640x480 with 1 Axes>"
      ]
     },
     "metadata": {},
     "output_type": "display_data"
    }
   ],
   "source": [
    "print(np.mean(corr), np.std(corr))\n",
    "plt.hist(corr, bins = 10)\n",
    "plt.show()"
   ]
  },
  {
   "attachments": {},
   "cell_type": "markdown",
   "metadata": {},
   "source": [
    "# Try to keep only some frequencies"
   ]
  },
  {
   "cell_type": "code",
   "execution_count": 910,
   "metadata": {},
   "outputs": [],
   "source": [
    "cols_to_keep = [c for c in psds.columns if  float(re.search(\"[0-9]+\\.[0-9]*\", c).group(0)) >= 1.0 and float(re.search(\"[0-9]+\\.[0-9]*\", c).group(0)) < 50.0]"
   ]
  },
  {
   "cell_type": "code",
   "execution_count": 911,
   "metadata": {},
   "outputs": [
    {
     "name": "stderr",
     "output_type": "stream",
     "text": [
      "100%|██████████| 10/10 [00:47<00:00,  4.73s/it]\n"
     ]
    }
   ],
   "source": [
    "# To predict\n",
    "col_to_predict = \"Catell_score\"\n",
    "y = demographics[col_to_predict]\n",
    "y = y.to_numpy()\n",
    "\n",
    "# Features\n",
    "X = psds[cols_to_keep]\n",
    "X = X.to_numpy()\n",
    "\n",
    "# Remove Nan Values\n",
    "index = np.where(np.isnan(y) == True)[0]\n",
    "X = np.delete(X, index, axis=0)\n",
    "y = np.delete(y, index, axis=0)\n",
    "\n",
    "# Remove the outliers, ex here one with a score of 0\n",
    "index = np.where(y == 0)[0]\n",
    "X = np.delete(X, index, axis=0)\n",
    "y = np.delete(y, index, axis=0)\n",
    "\n",
    "\n",
    "test_split = 0.2\n",
    "nb_components_pca = 68\n",
    "standard_input = True\n",
    "standard_output = False\n",
    "model = Ridge(alpha=10.0)\n",
    "plot = False\n",
    "corr = []\n",
    "\n",
    "for _ in tqdm(range(10), total=10):\n",
    "    correlation = train_and_predict(X, y, test_split, nb_components_pca, standard_input, standard_output, model, plot)\n",
    "    corr.append(correlation)\n"
   ]
  },
  {
   "cell_type": "code",
   "execution_count": 912,
   "metadata": {},
   "outputs": [
    {
     "name": "stdout",
     "output_type": "stream",
     "text": [
      "0.5421190464870508 0.04462600901155257\n"
     ]
    },
    {
     "data": {
      "image/png": "[encoded data removed]",
      "text/plain": [
       "<Figure size 640x480 with 1 Axes>"
      ]
     },
     "metadata": {},
     "output_type": "display_data"
    }
   ],
   "source": [
    "print(np.mean(corr), np.std(corr))\n",
    "plt.hist(corr, bins = 5)\n",
    "plt.show()"
   ]
  },
  {
   "attachments": {},
   "cell_type": "markdown",
   "metadata": {},
   "source": [
    "# With DL"
   ]
  },
  {
   "cell_type": "code",
   "execution_count": 411,
   "metadata": {},
   "outputs": [],
   "source": [
    "import tensorflow as tf\n",
    "from tensorflow.keras.layers import Dense, BatchNormalization, Input, Dropout\n",
    "from tensorflow.keras import Model"
   ]
  },
  {
   "cell_type": "code",
   "execution_count": 539,
   "metadata": {},
   "outputs": [
    {
     "name": "stdout",
     "output_type": "stream",
     "text": [
      "Epoch 1/20\n",
      "8/8 [==============================] - 1s 104ms/step - loss: 2.1168 - mae: 2.1168 - val_loss: 0.8172 - val_mae: 0.8172\n",
      "Epoch 2/20\n",
      "8/8 [==============================] - 0s 36ms/step - loss: 1.2351 - mae: 1.2351 - val_loss: 0.7511 - val_mae: 0.7511\n",
      "Epoch 3/20\n",
      "8/8 [==============================] - 0s 36ms/step - loss: 0.8922 - mae: 0.8922 - val_loss: 0.5598 - val_mae: 0.5598\n",
      "Epoch 4/20\n",
      "8/8 [==============================] - 0s 31ms/step - loss: 0.7315 - mae: 0.7315 - val_loss: 0.4608 - val_mae: 0.4608\n",
      "Epoch 5/20\n",
      "8/8 [==============================] - 0s 26ms/step - loss: 0.5316 - mae: 0.5316 - val_loss: 0.3151 - val_mae: 0.3151\n",
      "Epoch 6/20\n",
      "8/8 [==============================] - 0s 34ms/step - loss: 0.4882 - mae: 0.4882 - val_loss: 0.2781 - val_mae: 0.2781\n",
      "Epoch 7/20\n",
      "8/8 [==============================] - 0s 39ms/step - loss: 0.4568 - mae: 0.4568 - val_loss: 0.3280 - val_mae: 0.3280\n",
      "Epoch 8/20\n",
      "8/8 [==============================] - 0s 27ms/step - loss: 0.4349 - mae: 0.4349 - val_loss: 0.2591 - val_mae: 0.2591\n",
      "Epoch 9/20\n",
      "8/8 [==============================] - 0s 29ms/step - loss: 0.3960 - mae: 0.3960 - val_loss: 0.3062 - val_mae: 0.3062\n",
      "Epoch 10/20\n",
      "8/8 [==============================] - 0s 31ms/step - loss: 0.3927 - mae: 0.3927 - val_loss: 0.3354 - val_mae: 0.3354\n",
      "Epoch 11/20\n",
      "8/8 [==============================] - 0s 28ms/step - loss: 0.3230 - mae: 0.3230 - val_loss: 0.2629 - val_mae: 0.2629\n",
      "Epoch 12/20\n",
      "8/8 [==============================] - 0s 27ms/step - loss: 0.3577 - mae: 0.3577 - val_loss: 0.2470 - val_mae: 0.2470\n",
      "Epoch 13/20\n",
      "8/8 [==============================] - 0s 29ms/step - loss: 0.2952 - mae: 0.2952 - val_loss: 0.2714 - val_mae: 0.2714\n",
      "Epoch 14/20\n",
      "8/8 [==============================] - 0s 24ms/step - loss: 0.3508 - mae: 0.3508 - val_loss: 0.3093 - val_mae: 0.3093\n",
      "Epoch 15/20\n",
      "8/8 [==============================] - 0s 28ms/step - loss: 0.3445 - mae: 0.3445 - val_loss: 0.2562 - val_mae: 0.2562\n",
      "Epoch 16/20\n",
      "8/8 [==============================] - 0s 34ms/step - loss: 0.3821 - mae: 0.3821 - val_loss: 0.2886 - val_mae: 0.2886\n",
      "Epoch 17/20\n",
      "8/8 [==============================] - 0s 25ms/step - loss: 0.3475 - mae: 0.3475 - val_loss: 0.2373 - val_mae: 0.2373\n",
      "Epoch 18/20\n",
      "8/8 [==============================] - 0s 27ms/step - loss: 0.3330 - mae: 0.3330 - val_loss: 0.2574 - val_mae: 0.2574\n",
      "Epoch 19/20\n",
      "8/8 [==============================] - 0s 30ms/step - loss: 0.2896 - mae: 0.2896 - val_loss: 0.2283 - val_mae: 0.2283\n",
      "Epoch 20/20\n",
      "8/8 [==============================] - 0s 28ms/step - loss: 0.2925 - mae: 0.2925 - val_loss: 0.2244 - val_mae: 0.2244\n",
      "5/5 [==============================] - 0s 12ms/step\n",
      "MSE training :  0.07419036462312373\n",
      "2/2 [==============================] - 0s 31ms/step\n",
      "MSE test :  0.11536145840392224\n"
     ]
    },
    {
     "data": {
      "image/png": "[encoded data removed]",
      "text/plain": [
       "<Figure size 1500x900 with 2 Axes>"
      ]
     },
     "metadata": {},
     "output_type": "display_data"
    }
   ],
   "source": [
    "# To predict\n",
    "col_to_predict = [\"Catell_score\", \"age\"]\n",
    "y = demographics[col_to_predict]\n",
    "y = y.to_numpy()\n",
    "\n",
    "# Features\n",
    "X = psds.copy()\n",
    "X = X.to_numpy()\n",
    "\n",
    "# Remove Nan Values\n",
    "index = np.where(np.isnan(y) == True)[0]\n",
    "X = np.delete(X, index, axis=0)\n",
    "y = np.delete(y, index, axis=0)\n",
    "\n",
    "# Remove the outliers, ex here one with a score of 0\n",
    "index = np.where(y == 0)[0]\n",
    "X = np.delete(X, index, axis=0)\n",
    "y = np.delete(y, index, axis=0)\n",
    "\n",
    "X_train, X_test, y_train, y_test = train_test_split(X, y, test_size = 0.3)\n",
    "\n",
    "# Standardization of the input\n",
    "scaler = StandardScaler()\n",
    "\n",
    "X_train = scaler.fit_transform(X_train)\n",
    "X_test = scaler.transform(X_test)\n",
    "\n",
    "\n",
    "scaler_output = MinMaxScaler()\n",
    "\n",
    "y_train = scaler_output.fit_transform(y_train)\n",
    "y_test = scaler_output.transform(y_test)\n",
    "\n",
    "# Create model\n",
    "input = Input(shape=(X.shape[1]))\n",
    "hidden = Dense(1024, activation = \"sigmoid\")(input)\n",
    "hidden = Dropout(0.2)(hidden)\n",
    "hidden = BatchNormalization()(hidden)\n",
    "hidden = Dense(512, activation = \"sigmoid\")(hidden)\n",
    "hidden = Dropout(0.2)(hidden)\n",
    "hidden = BatchNormalization()(hidden)\n",
    "output = Dense(2)(hidden)\n",
    "\n",
    "model = Model(inputs = input, outputs = output)\n",
    "\n",
    "model.compile(loss = \"mae\", optimizer=\"adam\", metrics=[\"mae\"])\n",
    "\n",
    "#Fit model\n",
    "model.fit(X_train, y_train, epochs = 20, validation_split = 0.2, batch_size=16)\n",
    "\n",
    "# Plot results\n",
    "_, (ax0, ax1) = plt.subplots(figsize = (15, 9), ncols=2)\n",
    "\n",
    "y_train_pred = model.predict(X_train)\n",
    "print(\"MSE training : \", mean_squared_error(y_train, y_train_pred))\n",
    "\n",
    "ax0.scatter(x=y_train[:,0], y=y_train_pred[:,0])\n",
    "ax0.plot(y_train, y_train)\n",
    "ax0.set_title(\"Training Set\")\n",
    "\n",
    "y_test_pred = model.predict(X_test)\n",
    "print(\"MSE test : \", mean_squared_error(y_test, y_test_pred))\n",
    "\n",
    "ax1.scatter(x=y_test[:,0], y=y_test_pred[:,0])\n",
    "ax1.plot(y_test, y_test)\n",
    "ax1.set_title(\"Test Set\")\n",
    "\n",
    "plt.show()"
   ]
  },
  {
   "attachments": {},
   "cell_type": "markdown",
   "metadata": {},
   "source": [
    "# New features processing"
   ]
  },
  {
   "attachments": {},
   "cell_type": "markdown",
   "metadata": {},
   "source": [
    "## Average per band"
   ]
  },
  {
   "cell_type": "code",
   "execution_count": 837,
   "metadata": {},
   "outputs": [],
   "source": [
    "BROADBAND = (0.0, 150.0)\n",
    "DELTA = (0.0, 4.0)\n",
    "THETA = (4.0, 8.0)\n",
    "ALPHA = (8.0, 13.0)\n",
    "BETA = (13.0, 30.0)\n",
    "GAMMA = (30.0, 50.0)\n",
    "HIGH_GAMMA = (50.0, 150.0)\n",
    "\n",
    "bands = [DELTA, THETA, ALPHA, BETA, GAMMA, HIGH_GAMMA]"
   ]
  },
  {
   "cell_type": "code",
   "execution_count": 838,
   "metadata": {},
   "outputs": [],
   "source": [
    "avg_psds = np.zeros((psds.shape[0],6))\n",
    "\n",
    "for k, band in enumerate(bands):\n",
    "    columns_band_freq = [c for c in psds.columns if float(re.search(\"[0-9]+\\.[0-9]*\", c).group(0)) >= band[0] and float(re.search(\"[0-9]+\\.[0-9]*\", c).group(0)) < band[1]]\n",
    "    psds_band = psds[columns_band_freq]\n",
    "    avg_psds[:, k] = np.mean(psds_band, axis=1)"
   ]
  },
  {
   "cell_type": "code",
   "execution_count": 839,
   "metadata": {},
   "outputs": [
    {
     "data": {
      "text/html": [
       "<div>\n",
       "<style scoped>\n",
       "    .dataframe tbody tr th:only-of-type {\n",
       "        vertical-align: middle;\n",
       "    }\n",
       "\n",
       "    .dataframe tbody tr th {\n",
       "        vertical-align: top;\n",
       "    }\n",
       "\n",
       "    .dataframe thead th {\n",
       "        text-align: right;\n",
       "    }\n",
       "</style>\n",
       "<table border=\"1\" class=\"dataframe\">\n",
       "  <thead>\n",
       "    <tr style=\"text-align: right;\">\n",
       "      <th></th>\n",
       "      <th>Delta</th>\n",
       "      <th>Theta</th>\n",
       "      <th>Alpha</th>\n",
       "      <th>Beta</th>\n",
       "      <th>Gamma</th>\n",
       "      <th>High Gamma</th>\n",
       "    </tr>\n",
       "  </thead>\n",
       "  <tbody>\n",
       "    <tr>\n",
       "      <th>0</th>\n",
       "      <td>1.273034</td>\n",
       "      <td>0.128179</td>\n",
       "      <td>0.178182</td>\n",
       "      <td>-0.498392</td>\n",
       "      <td>-2.028279</td>\n",
       "      <td>-2.708362</td>\n",
       "    </tr>\n",
       "    <tr>\n",
       "      <th>1</th>\n",
       "      <td>1.237832</td>\n",
       "      <td>0.319975</td>\n",
       "      <td>0.002091</td>\n",
       "      <td>-0.996203</td>\n",
       "      <td>-2.101035</td>\n",
       "      <td>-2.820252</td>\n",
       "    </tr>\n",
       "    <tr>\n",
       "      <th>2</th>\n",
       "      <td>1.278823</td>\n",
       "      <td>0.538073</td>\n",
       "      <td>0.230532</td>\n",
       "      <td>-0.872427</td>\n",
       "      <td>-2.056754</td>\n",
       "      <td>-2.827937</td>\n",
       "    </tr>\n",
       "    <tr>\n",
       "      <th>3</th>\n",
       "      <td>1.227882</td>\n",
       "      <td>0.543446</td>\n",
       "      <td>-0.005334</td>\n",
       "      <td>-0.697368</td>\n",
       "      <td>-2.467764</td>\n",
       "      <td>-3.429071</td>\n",
       "    </tr>\n",
       "    <tr>\n",
       "      <th>4</th>\n",
       "      <td>0.979032</td>\n",
       "      <td>0.532299</td>\n",
       "      <td>0.716635</td>\n",
       "      <td>-0.373444</td>\n",
       "      <td>-2.125706</td>\n",
       "      <td>-3.133347</td>\n",
       "    </tr>\n",
       "  </tbody>\n",
       "</table>\n",
       "</div>"
      ],
      "text/plain": [
       "      Delta     Theta     Alpha      Beta     Gamma  High Gamma\n",
       "0  1.273034  0.128179  0.178182 -0.498392 -2.028279   -2.708362\n",
       "1  1.237832  0.319975  0.002091 -0.996203 -2.101035   -2.820252\n",
       "2  1.278823  0.538073  0.230532 -0.872427 -2.056754   -2.827937\n",
       "3  1.227882  0.543446 -0.005334 -0.697368 -2.467764   -3.429071\n",
       "4  0.979032  0.532299  0.716635 -0.373444 -2.125706   -3.133347"
      ]
     },
     "execution_count": 839,
     "metadata": {},
     "output_type": "execute_result"
    }
   ],
   "source": [
    "avg_psds = pd.DataFrame(avg_psds, columns = [\"Delta\", \"Theta\", \"Alpha\", \"Beta\", \"Gamma\", \"High Gamma\"]) \n",
    "avg_psds.head()"
   ]
  },
  {
   "cell_type": "code",
   "execution_count": 841,
   "metadata": {},
   "outputs": [
    {
     "name": "stderr",
     "output_type": "stream",
     "text": [
      "100%|██████████| 100/100 [00:00<00:00, 1056.50it/s]\n"
     ]
    },
    {
     "data": {
      "text/plain": [
       "(0.534549009970616, 0.12735619865834483)"
      ]
     },
     "execution_count": 841,
     "metadata": {},
     "output_type": "execute_result"
    }
   ],
   "source": [
    "# To predict\n",
    "col_to_predict = \"age\"\n",
    "y = demographics[col_to_predict]\n",
    "y = y.to_numpy()\n",
    "\n",
    "# Features\n",
    "X = avg_psds.copy()\n",
    "X = X.to_numpy()\n",
    "\n",
    "# Remove Nan Values\n",
    "index = np.where(np.isnan(y) == True)[0]\n",
    "X = np.delete(X, index, axis=0)\n",
    "y = np.delete(y, index, axis=0)\n",
    "\n",
    "# Remove the outliers, ex here one with a score of 0\n",
    "index = np.where(y == 0)[0]\n",
    "X = np.delete(X, index, axis=0)\n",
    "y = np.delete(y, index, axis=0)\n",
    "\n",
    "\n",
    "test_split = 0.2\n",
    "nb_components_pca = None\n",
    "standard_input = True\n",
    "standard_output = False\n",
    "model = Ridge(alpha=10.0)\n",
    "plot = False\n",
    "\n",
    "for _ in tqdm(range(100), total=100):\n",
    "    correlation = train_and_predict(X, y, test_split, nb_components_pca, standard_input, standard_output, model, plot)\n",
    "    corr.append(correlation)\n",
    "\n",
    "np.mean(corr), np.std(corr)"
   ]
  },
  {
   "cell_type": "code",
   "execution_count": 843,
   "metadata": {},
   "outputs": [],
   "source": [
    "X = np.zeros((avg_psds.shape[0], avg_psds.shape[1]**2))\n",
    "X[:, :6] = avg_psds.copy()\n",
    "\n",
    "for i in range(avg_psds.shape[1]):\n",
    "    for j in range(avg_psds.shape[1]):\n",
    "        if i != j :\n",
    "            X[i + j*6 + 6] = X[i]/X[j]"
   ]
  },
  {
   "cell_type": "code",
   "execution_count": 845,
   "metadata": {},
   "outputs": [
    {
     "data": {
      "text/plain": [
       "array([[ 1.27303401,  0.12817906,  0.17818223, ...,  0.        ,\n",
       "         0.        ,  0.        ],\n",
       "       [ 1.23783182,  0.31997517,  0.00209147, ...,  0.        ,\n",
       "         0.        ,  0.        ],\n",
       "       [ 1.27882322,  0.53807271,  0.23053231, ...,  0.        ,\n",
       "         0.        ,  0.        ],\n",
       "       ...,\n",
       "       [ 0.70147237,  0.37935314,  0.75961557, ...,  0.        ,\n",
       "         0.        ,  0.        ],\n",
       "       [ 0.7709086 , -0.0270235 ,  0.65606525, ...,  0.        ,\n",
       "         0.        ,  0.        ],\n",
       "       [ 0.68565382,  0.27208375,  0.6548367 , ...,  0.        ,\n",
       "         0.        ,  0.        ]])"
      ]
     },
     "execution_count": 845,
     "metadata": {},
     "output_type": "execute_result"
    }
   ],
   "source": [
    "X"
   ]
  },
  {
   "attachments": {},
   "cell_type": "markdown",
   "metadata": {},
   "source": [
    "## Average per band per ROI"
   ]
  },
  {
   "cell_type": "code",
   "execution_count": null,
   "metadata": {},
   "outputs": [],
   "source": [
    "BROADBAND = (0.0, 150.0)\n",
    "DELTA = (0.0, 4.0)\n",
    "THETA = (4.0, 8.0)\n",
    "ALPHA = (8.0, 13.0)\n",
    "BETA = (13.0, 30.0)\n",
    "GAMMA = (30.0, 50.0)\n",
    "HIGH_GAMMA = (50.0, 150.0)\n",
    "\n",
    "bands = [DELTA, THETA, ALPHA, BETA, GAMMA, HIGH_GAMMA]"
   ]
  },
  {
   "cell_type": "code",
   "execution_count": 831,
   "metadata": {},
   "outputs": [],
   "source": [
    "avg_psds = np.zeros((psds.shape[0],6*len(ROIs)))\n",
    "\n",
    "for k, band in enumerate(bands):\n",
    "    columns_band_freq = [c for c in psds.columns if float(re.search(\"[0-9]+\\.[0-9]*\", c).group(0)) >= band[0] and float(re.search(\"[0-9]+\\.[0-9]*\", c).group(0)) < band[1]]\n",
    "    for l, ROI in enumerate(ROIs) :\n",
    "        columns_ROI = [c for c in columns_band_freq if ROI in c]\n",
    "        psds_band_ROI = psds[columns_ROI]\n",
    "        avg_psds[:, k + l*6] = np.mean(psds_band_ROI, axis=1)"
   ]
  },
  {
   "cell_type": "code",
   "execution_count": 836,
   "metadata": {},
   "outputs": [
    {
     "name": "stderr",
     "output_type": "stream",
     "text": [
      "100%|██████████| 100/100 [00:43<00:00,  2.32it/s]\n"
     ]
    },
    {
     "data": {
      "text/plain": [
       "(0.5814623398568872, 0.10592879015529226)"
      ]
     },
     "execution_count": 836,
     "metadata": {},
     "output_type": "execute_result"
    }
   ],
   "source": [
    "# To predict\n",
    "col_to_predict = \"age\"\n",
    "y = demographics[col_to_predict]\n",
    "y = y.to_numpy()\n",
    "\n",
    "# Features\n",
    "X = avg_psds.copy()\n",
    "\n",
    "# Remove Nan Values\n",
    "index = np.where(np.isnan(y) == True)[0]\n",
    "X = np.delete(X, index, axis=0)\n",
    "y = np.delete(y, index, axis=0)\n",
    "\n",
    "# Remove the outliers, ex here one with a score of 0\n",
    "index = np.where(y == 0)[0]\n",
    "X = np.delete(X, index, axis=0)\n",
    "y = np.delete(y, index, axis=0)\n",
    "\n",
    "\n",
    "test_split = 0.2\n",
    "nb_components_pca = None\n",
    "standard_input = True\n",
    "standard_output = False\n",
    "model = Ridge(alpha=10.0)\n",
    "plot = False\n",
    "\n",
    "for _ in tqdm(range(100), total=100):\n",
    "    correlation = train_and_predict(X, y, test_split, nb_components_pca, standard_input, standard_output, model, plot)\n",
    "    corr.append(correlation)\n",
    "\n",
    "np.mean(corr), np.std(corr)"
   ]
  },
  {
   "attachments": {},
   "cell_type": "markdown",
   "metadata": {},
   "source": [
    "# Try to see if same results reducing to only highly heritable features"
   ]
  },
  {
   "attachments": {},
   "cell_type": "markdown",
   "metadata": {},
   "source": [
    "**To continue**"
   ]
  }
 ],
 "metadata": {
  "kernelspec": {
   "display_name": "fingerprints_env",
   "language": "python",
   "name": "python3"
  },
  "language_info": {
   "codemirror_mode": {
    "name": "ipython",
    "version": 3
   },
   "file_extension": ".py",
   "mimetype": "text/x-python",
   "name": "python",
   "nbconvert_exporter": "python",
   "pygments_lexer": "ipython3",
   "version": "3.9.6"
  },
  "orig_nbformat": 4
 },
 "nbformat": 4,
 "nbformat_minor": 2
}
